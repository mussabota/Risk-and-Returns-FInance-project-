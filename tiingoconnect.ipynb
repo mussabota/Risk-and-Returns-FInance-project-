{
 "cells": [
  {
   "cell_type": "code",
   "execution_count": 6,
   "metadata": {},
   "outputs": [],
   "source": [
    "import requests\n",
    "import pandas as pd\n",
    "\n",
    "yourtoken = 'd7a872bbd306ed5422b64b6a7c08552dc3c4a252'\n",
    "\n",
    "\n",
    "def DataReader(ticker,d_start,d_end):\n",
    "\n",
    " #We are expecting DateTime type for input dates !! (just like original Pandas DataReader)\n",
    " \n",
    " d_end = d_end.strftime('%Y-%m-%d')\n",
    " d_start = d_start.strftime('%Y-%m-%d')\n",
    " #print d_start\n",
    " #print d_end\n",
    " \n",
    " headers = {\n",
    "       'Content-Type': 'application/json',\n",
    "       'Authorization' : 'Token ' + yourtoken\n",
    "       }\n",
    " url = \"https://api.tiingo.com/tiingo/daily/\" + ticker + \"/prices?startDate=\" + d_start + \"&endDate=\"+ d_end\n",
    " \n",
    " #print url\n",
    " requestResponse = requests.get(url,headers=headers)\n",
    " json_result = requestResponse.json()\n",
    " \n",
    " df = pd.DataFrame.from_records(json_result)\n",
    " \n",
    " #Check for existance of Adj Close column\n",
    " #If not, check for existance of Close column\n",
    " #If not -> throw error\n",
    " #If no Adj Close, but Close, copy Close to Adj close\n",
    " \n",
    "  \n",
    " if not 'adjClose' in df.columns:\n",
    "  if 'close' in df.columns:\n",
    "   df['adjClose'] = df['close']\n",
    "  else:\n",
    "   print (\"Error: No Close information\")\n",
    "   return\n",
    " \n",
    " #Convert ISO date format to Pandas DateTime\n",
    " df['date']  = pd.to_datetime(df['date'])\n",
    " #Align Column Names to previous DataReader names\n",
    " df = df.rename(columns={'date': 'Date', 'open': 'Open','adjClose':'Adj Close','volume':'Volume','high':'High','low':'Low','close':'Close'})\n",
    " a = df.set_index(['Date'])\n",
    " #print a\n",
    " return a\n",
    "\n",
    "\n"
   ]
  },
  {
   "cell_type": "code",
   "execution_count": null,
   "metadata": {},
   "outputs": [],
   "source": []
  }
 ],
 "metadata": {
  "kernelspec": {
   "display_name": "Python 3",
   "language": "python",
   "name": "python3"
  },
  "language_info": {
   "codemirror_mode": {
    "name": "ipython",
    "version": 3
   },
   "file_extension": ".py",
   "mimetype": "text/x-python",
   "name": "python",
   "nbconvert_exporter": "python",
   "pygments_lexer": "ipython3",
   "version": "3.6.8"
  }
 },
 "nbformat": 4,
 "nbformat_minor": 2
}
